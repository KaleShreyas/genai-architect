{
 "cells": [
  {
   "cell_type": "code",
   "execution_count": null,
   "id": "f3ebd017",
   "metadata": {},
   "outputs": [],
   "source": [
    "%pip install -r requirements.txt"
   ]
  },
  {
   "cell_type": "markdown",
   "id": "90afa094",
   "metadata": {},
   "source": [
    "# Imports"
   ]
  },
  {
   "cell_type": "code",
   "execution_count": 1,
   "id": "873baad3",
   "metadata": {},
   "outputs": [],
   "source": [
    "import os\n",
    "import json\n",
    "\n",
    "from typing import List\n",
    "from dotenv import load_dotenv\n",
    "\n",
    "import requests"
   ]
  },
  {
   "cell_type": "code",
   "execution_count": 2,
   "id": "e9957b73",
   "metadata": {},
   "outputs": [],
   "source": [
    "from pydantic import BaseModel, Field"
   ]
  },
  {
   "cell_type": "code",
   "execution_count": 3,
   "id": "bdf010a5",
   "metadata": {},
   "outputs": [],
   "source": [
    "from langchain.chains import SimpleSequentialChain\n",
    "from langchain.output_parsers import PydanticOutputParser\n",
    "from langchain.prompts import PromptTemplate\n",
    "from langchain.schema.runnable import RunnableMap"
   ]
  },
  {
   "cell_type": "code",
   "execution_count": 4,
   "id": "3481ec47",
   "metadata": {},
   "outputs": [],
   "source": [
    "from langchain_openai import AzureChatOpenAI"
   ]
  },
  {
   "cell_type": "code",
   "execution_count": 5,
   "id": "58a949d1",
   "metadata": {},
   "outputs": [
    {
     "name": "stderr",
     "output_type": "stream",
     "text": [
      "USER_AGENT environment variable not set, consider setting it to identify your requests.\n"
     ]
    }
   ],
   "source": [
    "from langchain_community.tools.yahoo_finance_news import YahooFinanceNewsTool"
   ]
  },
  {
   "cell_type": "code",
   "execution_count": 7,
   "id": "cd7dce8b",
   "metadata": {},
   "outputs": [],
   "source": [
    "from langfuse import Langfuse"
   ]
  },
  {
   "cell_type": "markdown",
   "id": "1c2bcb3b",
   "metadata": {},
   "source": [
    "# Load Config"
   ]
  },
  {
   "cell_type": "code",
   "execution_count": 8,
   "id": "a1fd8df1",
   "metadata": {},
   "outputs": [],
   "source": [
    "# Load environment variables from .env file\n",
    "load_dotenv()\n",
    "\n",
    "# Access environment variables\n",
    "azure_api_key = os.getenv(\"AZURE_OPENAI_API_KEY\")\n",
    "azure_endpoint = os.getenv(\"AZURE_OPENAI_ENDPOINT\")\n",
    "deployment_name = os.getenv(\"DEPLOYMENT_NAME\")\n",
    "langfuse_public = os.getenv(\"LANGFUSE_PUBLIC_KEY\")\n",
    "langfuse_secret = os.getenv(\"LANGFUSE_SECRET_KEY\")"
   ]
  },
  {
   "cell_type": "code",
   "execution_count": 9,
   "id": "46a3e855",
   "metadata": {},
   "outputs": [],
   "source": [
    "# Set the environment variables\n",
    "os.environ['AZURE_OPENAI_API_KEY'] = azure_api_key\n",
    "os.environ['AZURE_OPENAI_ENDPOINT'] = azure_endpoint"
   ]
  },
  {
   "cell_type": "markdown",
   "id": "19fecee4",
   "metadata": {},
   "source": [
    "# LLM Configuration"
   ]
  },
  {
   "cell_type": "code",
   "execution_count": 10,
   "id": "cd24c458",
   "metadata": {},
   "outputs": [],
   "source": [
    "# Azure OpenAI - GPT-4o or GPT-4o-mini\n",
    "llm = AzureChatOpenAI(\n",
    "    deployment_name=deployment_name,\n",
    "    model_name=\"gpt-4o\",\n",
    "    temperature=0.3,\n",
    "    api_version=\"2024-12-01-preview\",\n",
    ")"
   ]
  },
  {
   "cell_type": "markdown",
   "id": "32361ede",
   "metadata": {},
   "source": [
    "# Output Schema"
   ]
  },
  {
   "cell_type": "code",
   "execution_count": 11,
   "id": "0507337c",
   "metadata": {},
   "outputs": [],
   "source": [
    "# Define the output schema using Pydantic\n",
    "class SentimentOutput(BaseModel):\n",
    "    company_name: str\n",
    "    stock_code: str\n",
    "    newsdesc: str\n",
    "    sentiment: str\n",
    "    people_names: List[str]\n",
    "    places_names: List[str]\n",
    "    other_companies_referred: List[str]\n",
    "    related_industries: List[str]\n",
    "    market_implications: str\n",
    "    confidence_score: float = Field(ge=0.0, le=1.0)\n",
    "\n",
    "# Parser\n",
    "parser = PydanticOutputParser(pydantic_object=SentimentOutput)"
   ]
  },
  {
   "cell_type": "markdown",
   "id": "8984b1f6",
   "metadata": {},
   "source": [
    "# Initialize Langfuse"
   ]
  },
  {
   "cell_type": "code",
   "execution_count": 12,
   "id": "edfb0c96",
   "metadata": {},
   "outputs": [],
   "source": [
    "# Initialize Langfuse\n",
    "langfuse = Langfuse(public_key=langfuse_public, secret_key=langfuse_secret)"
   ]
  },
  {
   "cell_type": "code",
   "execution_count": 13,
   "id": "2bff48f5",
   "metadata": {},
   "outputs": [
    {
     "name": "stdout",
     "output_type": "stream",
     "text": [
      "Langfuse client is authenticated and ready!\n"
     ]
    }
   ],
   "source": [
    "# Verify connection, do not use in production as this is a synchronous call\n",
    "if langfuse.auth_check():\n",
    "    print(\"Langfuse client is authenticated and ready!\")\n",
    "else:\n",
    "    print(\"Authentication failed. Please check your credentials and host.\")"
   ]
  },
  {
   "cell_type": "markdown",
   "id": "c1f66db1",
   "metadata": {},
   "source": [
    "# Get Relevant Data"
   ]
  },
  {
   "cell_type": "code",
   "execution_count": 14,
   "id": "1efeb3fb",
   "metadata": {},
   "outputs": [],
   "source": [
    "# Fetch symbol from company name\n",
    "def get_stock_ticker(company_name):\n",
    "    url = \"https://query2.finance.yahoo.com/v1/finance/search\"\n",
    "    user_agent = \"Mozilla/5.0 (Windows NT 10.0; Win64; x64)\"\n",
    "    params = {\"q\": company_name, \"quotes_count\": 1, \"country\": \"United States\"}\n",
    "\n",
    "    res = requests.get(url=url, params=params, headers={'User-Agent': user_agent})\n",
    "    data = res.json()\n",
    "\n",
    "    company_code = data['quotes'][0]['symbol']\n",
    "    return company_code"
   ]
  },
  {
   "cell_type": "code",
   "execution_count": 15,
   "id": "a4063c36",
   "metadata": {},
   "outputs": [],
   "source": [
    "# Fetch Yahoo Finance news\n",
    "def fetch_news(ticker: str) -> str:\n",
    "    tool = YahooFinanceNewsTool()\n",
    "    print(\"Yahoo Finance Ticker : \", ticker.upper())\n",
    "    return tool.invoke(ticker)"
   ]
  },
  {
   "cell_type": "markdown",
   "id": "5ca2bdc1",
   "metadata": {},
   "source": [
    "# Setup Chain"
   ]
  },
  {
   "cell_type": "code",
   "execution_count": 16,
   "id": "cfc01cd3",
   "metadata": {},
   "outputs": [],
   "source": [
    "# Step 4: Sentiment analysis prompt\n",
    "sentiment_prompt = PromptTemplate(\n",
    "    input_variables=[\"company\", \"ticker\", \"news\"],\n",
    "    template=\"\"\"\n",
    "Analyze the sentiment of the news for the given company.\n",
    "\n",
    "Company: {company}\n",
    "Ticker: {ticker}\n",
    "News Summaries:\n",
    "{news}\n",
    "\n",
    "Return the result using this JSON format:\n",
    "{format_instructions}\n",
    "\"\"\",\n",
    "    partial_variables={\"format_instructions\": parser.get_format_instructions()}\n",
    ")"
   ]
  },
  {
   "cell_type": "code",
   "execution_count": 17,
   "id": "0519601b",
   "metadata": {},
   "outputs": [],
   "source": [
    "# Final sentiment chain\n",
    "sentiment_chain = sentiment_prompt | llm | parser"
   ]
  },
  {
   "cell_type": "markdown",
   "id": "0c7f8a08",
   "metadata": {},
   "source": [
    "# Main Pipeline Function"
   ]
  },
  {
   "cell_type": "code",
   "execution_count": 18,
   "id": "bf62f5ca",
   "metadata": {},
   "outputs": [],
   "source": [
    "def run_sentiment_pipeline(company_name: str):\n",
    "    span = langfuse.start_span(name=\"sentiment_analysis_pipeline\", input={\"company\": company_name})\n",
    "\n",
    "    # Extract ticker\n",
    "    ticker = get_stock_ticker(company_name)\n",
    "    span.update(name=\"stock_code_extraction\", input=company_name, output=ticker)\n",
    "\n",
    "    # Fetch news\n",
    "    news = fetch_news(ticker)\n",
    "    span.update(name=\"news_fetching\", input=ticker, output=news)\n",
    "\n",
    "    # Run sentiment analysis\n",
    "    input_data = {\n",
    "        \"company\": company_name,\n",
    "        \"ticker\": ticker,\n",
    "        \"news\": news\n",
    "    }\n",
    "    result = sentiment_chain.invoke(input_data)\n",
    "    span.update(name=\"sentiment_parsing\", input=input_data, output=result)\n",
    "    span.end()\n",
    "    return result"
   ]
  },
  {
   "cell_type": "markdown",
   "id": "2963d94c",
   "metadata": {},
   "source": [
    "# Test Case"
   ]
  },
  {
   "cell_type": "code",
   "execution_count": 19,
   "id": "b6d67e0c",
   "metadata": {},
   "outputs": [
    {
     "name": "stdout",
     "output_type": "stream",
     "text": [
      "Running chain for company :  APPLE\n",
      "Yahoo Finance Ticker :  AAPL\n"
     ]
    },
    {
     "ename": "ImportError",
     "evalue": "Could not import yfinance python package. Please install it with `pip install yfinance`.",
     "output_type": "error",
     "traceback": [
      "\u001b[31m---------------------------------------------------------------------------\u001b[39m",
      "\u001b[31mModuleNotFoundError\u001b[39m                       Traceback (most recent call last)",
      "\u001b[36mFile \u001b[39m\u001b[32m~/Documents/GitHub/venv/lib/python3.12/site-packages/langchain_community/tools/yahoo_finance_news.py:50\u001b[39m, in \u001b[36mYahooFinanceNewsTool._run\u001b[39m\u001b[34m(self, query, run_manager)\u001b[39m\n\u001b[32m     49\u001b[39m \u001b[38;5;28;01mtry\u001b[39;00m:\n\u001b[32m---> \u001b[39m\u001b[32m50\u001b[39m     \u001b[38;5;28;01mimport\u001b[39;00m\u001b[38;5;250m \u001b[39m\u001b[34;01myfinance\u001b[39;00m\n\u001b[32m     51\u001b[39m \u001b[38;5;28;01mexcept\u001b[39;00m \u001b[38;5;167;01mImportError\u001b[39;00m:\n",
      "\u001b[31mModuleNotFoundError\u001b[39m: No module named 'yfinance'",
      "\nDuring handling of the above exception, another exception occurred:\n",
      "\u001b[31mImportError\u001b[39m                               Traceback (most recent call last)",
      "\u001b[36mCell\u001b[39m\u001b[36m \u001b[39m\u001b[32mIn[19]\u001b[39m\u001b[32m, line 3\u001b[39m\n\u001b[32m      1\u001b[39m company = \u001b[38;5;28minput\u001b[39m(\u001b[33m\"\u001b[39m\u001b[33mEnter company name: \u001b[39m\u001b[33m\"\u001b[39m)\n\u001b[32m      2\u001b[39m \u001b[38;5;28mprint\u001b[39m(\u001b[33m\"\u001b[39m\u001b[33mRunning chain for company : \u001b[39m\u001b[33m\"\u001b[39m, company.upper())\n\u001b[32m----> \u001b[39m\u001b[32m3\u001b[39m result = \u001b[43mrun_sentiment_pipeline\u001b[49m\u001b[43m(\u001b[49m\u001b[43mcompany\u001b[49m\u001b[43m)\u001b[49m\n\u001b[32m      4\u001b[39m \u001b[38;5;28mprint\u001b[39m(json.dumps(result.dict(), indent=\u001b[32m2\u001b[39m))\n",
      "\u001b[36mCell\u001b[39m\u001b[36m \u001b[39m\u001b[32mIn[18]\u001b[39m\u001b[32m, line 9\u001b[39m, in \u001b[36mrun_sentiment_pipeline\u001b[39m\u001b[34m(company_name)\u001b[39m\n\u001b[32m      6\u001b[39m span.update(name=\u001b[33m\"\u001b[39m\u001b[33mstock_code_extraction\u001b[39m\u001b[33m\"\u001b[39m, \u001b[38;5;28minput\u001b[39m=company_name, output=ticker)\n\u001b[32m      8\u001b[39m \u001b[38;5;66;03m# Fetch news\u001b[39;00m\n\u001b[32m----> \u001b[39m\u001b[32m9\u001b[39m news = \u001b[43mfetch_news\u001b[49m\u001b[43m(\u001b[49m\u001b[43mticker\u001b[49m\u001b[43m)\u001b[49m\n\u001b[32m     10\u001b[39m span.update(name=\u001b[33m\"\u001b[39m\u001b[33mnews_fetching\u001b[39m\u001b[33m\"\u001b[39m, \u001b[38;5;28minput\u001b[39m=ticker, output=news)\n\u001b[32m     12\u001b[39m \u001b[38;5;66;03m# Run sentiment analysis\u001b[39;00m\n",
      "\u001b[36mCell\u001b[39m\u001b[36m \u001b[39m\u001b[32mIn[15]\u001b[39m\u001b[32m, line 5\u001b[39m, in \u001b[36mfetch_news\u001b[39m\u001b[34m(ticker)\u001b[39m\n\u001b[32m      3\u001b[39m tool = YahooFinanceNewsTool()\n\u001b[32m      4\u001b[39m \u001b[38;5;28mprint\u001b[39m(\u001b[33m\"\u001b[39m\u001b[33mYahoo Finance Ticker : \u001b[39m\u001b[33m\"\u001b[39m, ticker.upper())\n\u001b[32m----> \u001b[39m\u001b[32m5\u001b[39m \u001b[38;5;28;01mreturn\u001b[39;00m \u001b[43mtool\u001b[49m\u001b[43m.\u001b[49m\u001b[43minvoke\u001b[49m\u001b[43m(\u001b[49m\u001b[43mticker\u001b[49m\u001b[43m)\u001b[49m\n",
      "\u001b[36mFile \u001b[39m\u001b[32m~/Documents/GitHub/venv/lib/python3.12/site-packages/langchain_core/tools/base.py:510\u001b[39m, in \u001b[36mBaseTool.invoke\u001b[39m\u001b[34m(self, input, config, **kwargs)\u001b[39m\n\u001b[32m    502\u001b[39m \u001b[38;5;129m@override\u001b[39m\n\u001b[32m    503\u001b[39m \u001b[38;5;28;01mdef\u001b[39;00m\u001b[38;5;250m \u001b[39m\u001b[34minvoke\u001b[39m(\n\u001b[32m    504\u001b[39m     \u001b[38;5;28mself\u001b[39m,\n\u001b[32m   (...)\u001b[39m\u001b[32m    507\u001b[39m     **kwargs: Any,\n\u001b[32m    508\u001b[39m ) -> Any:\n\u001b[32m    509\u001b[39m     tool_input, kwargs = _prep_run_args(\u001b[38;5;28minput\u001b[39m, config, **kwargs)\n\u001b[32m--> \u001b[39m\u001b[32m510\u001b[39m     \u001b[38;5;28;01mreturn\u001b[39;00m \u001b[38;5;28;43mself\u001b[39;49m\u001b[43m.\u001b[49m\u001b[43mrun\u001b[49m\u001b[43m(\u001b[49m\u001b[43mtool_input\u001b[49m\u001b[43m,\u001b[49m\u001b[43m \u001b[49m\u001b[43m*\u001b[49m\u001b[43m*\u001b[49m\u001b[43mkwargs\u001b[49m\u001b[43m)\u001b[49m\n",
      "\u001b[36mFile \u001b[39m\u001b[32m~/Documents/GitHub/venv/lib/python3.12/site-packages/langchain_core/tools/base.py:771\u001b[39m, in \u001b[36mBaseTool.run\u001b[39m\u001b[34m(self, tool_input, verbose, start_color, color, callbacks, tags, metadata, run_name, run_id, config, tool_call_id, **kwargs)\u001b[39m\n\u001b[32m    769\u001b[39m \u001b[38;5;28;01mif\u001b[39;00m error_to_raise:\n\u001b[32m    770\u001b[39m     run_manager.on_tool_error(error_to_raise)\n\u001b[32m--> \u001b[39m\u001b[32m771\u001b[39m     \u001b[38;5;28;01mraise\u001b[39;00m error_to_raise\n\u001b[32m    772\u001b[39m output = _format_output(content, artifact, tool_call_id, \u001b[38;5;28mself\u001b[39m.name, status)\n\u001b[32m    773\u001b[39m run_manager.on_tool_end(output, color=color, name=\u001b[38;5;28mself\u001b[39m.name, **kwargs)\n",
      "\u001b[36mFile \u001b[39m\u001b[32m~/Documents/GitHub/venv/lib/python3.12/site-packages/langchain_core/tools/base.py:740\u001b[39m, in \u001b[36mBaseTool.run\u001b[39m\u001b[34m(self, tool_input, verbose, start_color, color, callbacks, tags, metadata, run_name, run_id, config, tool_call_id, **kwargs)\u001b[39m\n\u001b[32m    738\u001b[39m     \u001b[38;5;28;01mif\u001b[39;00m config_param := _get_runnable_config_param(\u001b[38;5;28mself\u001b[39m._run):\n\u001b[32m    739\u001b[39m         tool_kwargs = tool_kwargs | {config_param: config}\n\u001b[32m--> \u001b[39m\u001b[32m740\u001b[39m     response = \u001b[43mcontext\u001b[49m\u001b[43m.\u001b[49m\u001b[43mrun\u001b[49m\u001b[43m(\u001b[49m\u001b[38;5;28;43mself\u001b[39;49m\u001b[43m.\u001b[49m\u001b[43m_run\u001b[49m\u001b[43m,\u001b[49m\u001b[43m \u001b[49m\u001b[43m*\u001b[49m\u001b[43mtool_args\u001b[49m\u001b[43m,\u001b[49m\u001b[43m \u001b[49m\u001b[43m*\u001b[49m\u001b[43m*\u001b[49m\u001b[43mtool_kwargs\u001b[49m\u001b[43m)\u001b[49m\n\u001b[32m    741\u001b[39m \u001b[38;5;28;01mif\u001b[39;00m \u001b[38;5;28mself\u001b[39m.response_format == \u001b[33m\"\u001b[39m\u001b[33mcontent_and_artifact\u001b[39m\u001b[33m\"\u001b[39m:\n\u001b[32m    742\u001b[39m     \u001b[38;5;28;01mif\u001b[39;00m \u001b[38;5;129;01mnot\u001b[39;00m \u001b[38;5;28misinstance\u001b[39m(response, \u001b[38;5;28mtuple\u001b[39m) \u001b[38;5;129;01mor\u001b[39;00m \u001b[38;5;28mlen\u001b[39m(response) != \u001b[32m2\u001b[39m:\n",
      "\u001b[36mFile \u001b[39m\u001b[32m~/Documents/GitHub/venv/lib/python3.12/site-packages/langchain_community/tools/yahoo_finance_news.py:52\u001b[39m, in \u001b[36mYahooFinanceNewsTool._run\u001b[39m\u001b[34m(self, query, run_manager)\u001b[39m\n\u001b[32m     50\u001b[39m     \u001b[38;5;28;01mimport\u001b[39;00m\u001b[38;5;250m \u001b[39m\u001b[34;01myfinance\u001b[39;00m\n\u001b[32m     51\u001b[39m \u001b[38;5;28;01mexcept\u001b[39;00m \u001b[38;5;167;01mImportError\u001b[39;00m:\n\u001b[32m---> \u001b[39m\u001b[32m52\u001b[39m     \u001b[38;5;28;01mraise\u001b[39;00m \u001b[38;5;167;01mImportError\u001b[39;00m(\n\u001b[32m     53\u001b[39m         \u001b[33m\"\u001b[39m\u001b[33mCould not import yfinance python package. \u001b[39m\u001b[33m\"\u001b[39m\n\u001b[32m     54\u001b[39m         \u001b[33m\"\u001b[39m\u001b[33mPlease install it with `pip install yfinance`.\u001b[39m\u001b[33m\"\u001b[39m\n\u001b[32m     55\u001b[39m     )\n\u001b[32m     56\u001b[39m company = yfinance.Ticker(query)\n\u001b[32m     57\u001b[39m \u001b[38;5;28;01mtry\u001b[39;00m:\n",
      "\u001b[31mImportError\u001b[39m: Could not import yfinance python package. Please install it with `pip install yfinance`."
     ]
    }
   ],
   "source": [
    "company = input(\"Enter company name: \")\n",
    "print(\"Running chain for company : \", company.upper())\n",
    "result = run_sentiment_pipeline(company)\n",
    "print(json.dumps(result.dict(), indent=2))"
   ]
  },
  {
   "cell_type": "code",
   "execution_count": 20,
   "id": "50f7be54",
   "metadata": {},
   "outputs": [],
   "source": [
    "# Flush all pending observations\n",
    "langfuse.flush()\n",
    "langfuse.shutdown()"
   ]
  },
  {
   "cell_type": "code",
   "execution_count": null,
   "id": "fb1b0d3b",
   "metadata": {},
   "outputs": [],
   "source": []
  }
 ],
 "metadata": {
  "kernelspec": {
   "display_name": "venv",
   "language": "python",
   "name": "python3"
  },
  "language_info": {
   "codemirror_mode": {
    "name": "ipython",
    "version": 3
   },
   "file_extension": ".py",
   "mimetype": "text/x-python",
   "name": "python",
   "nbconvert_exporter": "python",
   "pygments_lexer": "ipython3",
   "version": "3.12.4"
  }
 },
 "nbformat": 4,
 "nbformat_minor": 5
}
