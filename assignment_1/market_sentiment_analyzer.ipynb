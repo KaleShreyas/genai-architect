{
 "cells": [
  {
   "cell_type": "code",
   "execution_count": null,
   "id": "f3ebd017",
   "metadata": {},
   "outputs": [],
   "source": [
    "%pip install -r requirements.txt"
   ]
  },
  {
   "cell_type": "markdown",
   "id": "90afa094",
   "metadata": {},
   "source": [
    "# Imports"
   ]
  },
  {
   "cell_type": "code",
   "execution_count": null,
   "id": "873baad3",
   "metadata": {},
   "outputs": [],
   "source": [
    "import os\n",
    "import json\n",
    "\n",
    "from typing import List\n",
    "from dotenv import load_dotenv\n",
    "\n",
    "from pydantic import BaseModel, Field"
   ]
  },
  {
   "cell_type": "code",
   "execution_count": null,
   "id": "bdf010a5",
   "metadata": {},
   "outputs": [],
   "source": [
    "from langchain.chains import SimpleSequentialChain\n",
    "from langchain.chat_models import AzureChatOpenAI\n",
    "from langchain.output_parsers import PydanticOutputParser\n",
    "from langchain.prompts import PromptTemplate\n",
    "from langchain.schema.runnable import RunnableMap"
   ]
  },
  {
   "cell_type": "code",
   "execution_count": null,
   "id": "58a949d1",
   "metadata": {},
   "outputs": [],
   "source": [
    "from langchain_community.tools.yahoo_finance_news import YahooFinanceNewsTool\n",
    "from langchain_community.utilities.ticker_symbol import TickerSymbolRetriever"
   ]
  },
  {
   "cell_type": "code",
   "execution_count": null,
   "id": "cd7dce8b",
   "metadata": {},
   "outputs": [],
   "source": [
    "from langfuse import Langfuse"
   ]
  },
  {
   "cell_type": "markdown",
   "id": "1c2bcb3b",
   "metadata": {},
   "source": [
    "# Load Config"
   ]
  },
  {
   "cell_type": "code",
   "execution_count": null,
   "id": "a1fd8df1",
   "metadata": {},
   "outputs": [],
   "source": [
    "# Load environment variables from .env file\n",
    "load_dotenv()\n",
    "\n",
    "# Access environment variables\n",
    "azure_api_key = os.getenv(\"AZURE_API_KEY\")\n",
    "azure_endpoint = os.getenv(\"AZURE_ENDPOINT\")\n",
    "deployment_name = os.getenv(\"DEPLOYMENT_NAME\")\n",
    "langfuse_public = os.getenv(\"LANGFUSE_PUBLIC_KEY\")\n",
    "langfuse_secret = os.getenv(\"LANGFUSE_SECRET_KEY\")"
   ]
  },
  {
   "cell_type": "markdown",
   "id": "19fecee4",
   "metadata": {},
   "source": [
    "# LLM Configuration"
   ]
  },
  {
   "cell_type": "code",
   "execution_count": null,
   "id": "cd24c458",
   "metadata": {},
   "outputs": [],
   "source": [
    "# Azure OpenAI - GPT-4o or GPT-4o-mini\n",
    "llm = AzureChatOpenAI(\n",
    "    deployment_name=\"your_deployment_name\",\n",
    "    model_name=\"gpt-4o\",\n",
    "    temperature=0.3,\n",
    "    api_key=\"your_azure_openai_api_key\",\n",
    "    azure_endpoint=\"https://your_resource_name.openai.azure.com/\",\n",
    "    api_version=\"2024-05-01-preview\",\n",
    ")"
   ]
  },
  {
   "cell_type": "markdown",
   "id": "32361ede",
   "metadata": {},
   "source": [
    "# Output Schema"
   ]
  },
  {
   "cell_type": "code",
   "execution_count": null,
   "id": "0507337c",
   "metadata": {},
   "outputs": [],
   "source": [
    "# Define the output schema using Pydantic\n",
    "class SentimentOutput(BaseModel):\n",
    "    company_name: str\n",
    "    stock_code: str\n",
    "    newsdesc: str\n",
    "    sentiment: str\n",
    "    people_names: List[str]\n",
    "    places_names: List[str]\n",
    "    other_companies_referred: List[str]\n",
    "    related_industries: List[str]\n",
    "    market_implications: str\n",
    "    confidence_score: float = Field(ge=0.0, le=1.0)\n",
    "\n",
    "# Parser\n",
    "parser = PydanticOutputParser(pydantic_object=SentimentOutput)"
   ]
  },
  {
   "cell_type": "markdown",
   "id": "8984b1f6",
   "metadata": {},
   "source": [
    "# Initialize Langfuse"
   ]
  },
  {
   "cell_type": "code",
   "execution_count": null,
   "id": "edfb0c96",
   "metadata": {},
   "outputs": [],
   "source": [
    "# Initialize Langfuse\n",
    "langfuse = Langfuse(public_key=langfuse_public, secret_key=langfuse_secret)"
   ]
  },
  {
   "cell_type": "markdown",
   "id": "c1f66db1",
   "metadata": {},
   "source": [
    "# Get Relevant Data"
   ]
  },
  {
   "cell_type": "code",
   "execution_count": null,
   "id": "a4063c36",
   "metadata": {},
   "outputs": [],
   "source": [
    "# Step 1 & 2: Accept company name and retrieve stock ticker\n",
    "def get_stock_ticker(company_name: str) -> str:\n",
    "    retriever = TickerSymbolRetriever()\n",
    "    ticker = retriever.run(company_name)\n",
    "    return ticker\n",
    "\n",
    "# Step 3: Fetch Yahoo Finance news\n",
    "def fetch_news(ticker: str) -> str:\n",
    "    tool = YahooFinanceNewsTool()\n",
    "    return tool.run(ticker)"
   ]
  },
  {
   "cell_type": "markdown",
   "id": "5ca2bdc1",
   "metadata": {},
   "source": [
    "# Setup Chain"
   ]
  },
  {
   "cell_type": "code",
   "execution_count": null,
   "id": "cfc01cd3",
   "metadata": {},
   "outputs": [],
   "source": [
    "# Step 4: Sentiment analysis prompt\n",
    "sentiment_prompt = PromptTemplate(\n",
    "    input_variables=[\"company\", \"ticker\", \"news\"],\n",
    "    template=\"\"\"\n",
    "Analyze the sentiment of the news for the given company.\n",
    "\n",
    "Company: {company}\n",
    "Ticker: {ticker}\n",
    "News Summaries:\n",
    "{news}\n",
    "\n",
    "Return the result using this JSON format:\n",
    "{format_instructions}\n",
    "\"\"\",\n",
    "    partial_variables={\"format_instructions\": parser.get_format_instructions()}\n",
    ")"
   ]
  },
  {
   "cell_type": "code",
   "execution_count": null,
   "id": "0519601b",
   "metadata": {},
   "outputs": [],
   "source": [
    "# Final sentiment chain\n",
    "sentiment_chain = sentiment_prompt | llm | parser"
   ]
  },
  {
   "cell_type": "markdown",
   "id": "0c7f8a08",
   "metadata": {},
   "source": [
    "# Main Pipeline Function"
   ]
  },
  {
   "cell_type": "code",
   "execution_count": null,
   "id": "bf62f5ca",
   "metadata": {},
   "outputs": [],
   "source": [
    "def run_sentiment_pipeline(company_name: str):\n",
    "    trace = langfuse.trace(name=\"sentiment_analysis_pipeline\", input={\"company\": company_name})\n",
    "\n",
    "    # Extract ticker\n",
    "    ticker = get_stock_ticker(company_name)\n",
    "    trace.span(\"stock_code_extraction\").log_input_output(input=company_name, output=ticker)\n",
    "\n",
    "    # Fetch news\n",
    "    news = fetch_news(ticker)\n",
    "    trace.span(\"news_fetching\").log_input_output(input=ticker, output=news)\n",
    "\n",
    "    # Run sentiment analysis\n",
    "    input_data = {\n",
    "        \"company\": company_name,\n",
    "        \"ticker\": ticker,\n",
    "        \"news\": news\n",
    "    }\n",
    "    result = sentiment_chain.invoke(input_data)\n",
    "    trace.span(\"sentiment_parsing\").log_input_output(input=input_data, output=result)\n",
    "\n",
    "    return result"
   ]
  },
  {
   "cell_type": "markdown",
   "id": "2963d94c",
   "metadata": {},
   "source": [
    "# Test Case"
   ]
  },
  {
   "cell_type": "code",
   "execution_count": null,
   "id": "b6d67e0c",
   "metadata": {},
   "outputs": [],
   "source": [
    "company = input(\"Enter company name: \")\n",
    "result = run_sentiment_pipeline(company)\n",
    "print(json.dumps(result.dict(), indent=2))"
   ]
  }
 ],
 "metadata": {
  "kernelspec": {
   "display_name": "Python 3",
   "language": "python",
   "name": "python3"
  },
  "language_info": {
   "name": "python",
   "version": "3.12.4"
  }
 },
 "nbformat": 4,
 "nbformat_minor": 5
}
