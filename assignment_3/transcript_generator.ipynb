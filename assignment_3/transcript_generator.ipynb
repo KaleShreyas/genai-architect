{
 "cells": [
  {
   "cell_type": "code",
   "execution_count": null,
   "id": "c5f9851d",
   "metadata": {},
   "outputs": [],
   "source": [
    "%pip install -r requirements.txt"
   ]
  },
  {
   "cell_type": "markdown",
   "id": "5b93d63b",
   "metadata": {},
   "source": [
    "# Imports"
   ]
  },
  {
   "cell_type": "code",
   "execution_count": 17,
   "id": "3bc14921",
   "metadata": {},
   "outputs": [],
   "source": [
    "import os\n",
    "import json\n",
    "\n",
    "from typing import List\n",
    "from dotenv import load_dotenv"
   ]
  },
  {
   "cell_type": "code",
   "execution_count": 18,
   "id": "1832d588",
   "metadata": {},
   "outputs": [],
   "source": [
    "from pydantic import BaseModel"
   ]
  },
  {
   "cell_type": "code",
   "execution_count": 19,
   "id": "4a9c192c",
   "metadata": {},
   "outputs": [],
   "source": [
    "from langchain.prompts import PromptTemplate\n",
    "from langchain.output_parsers import PydanticOutputParser\n",
    "from langchain.chat_models import ChatOpenAI\n",
    "from langchain.schema import OutputParserException"
   ]
  },
  {
   "cell_type": "code",
   "execution_count": 20,
   "id": "904802ab",
   "metadata": {},
   "outputs": [],
   "source": [
    "from langchain_openai import AzureChatOpenAI"
   ]
  },
  {
   "cell_type": "markdown",
   "id": "e30d5a46",
   "metadata": {},
   "source": [
    "# Load Config"
   ]
  },
  {
   "cell_type": "code",
   "execution_count": 21,
   "id": "f26dcaaf",
   "metadata": {},
   "outputs": [],
   "source": [
    "# Load environment variables from .env file\n",
    "load_dotenv()\n",
    "\n",
    "# Access environment variables\n",
    "azure_api_key = os.getenv(\"AZURE_OPENAI_API_KEY\")\n",
    "azure_endpoint = os.getenv(\"AZURE_OPENAI_ENDPOINT\")"
   ]
  },
  {
   "cell_type": "code",
   "execution_count": 22,
   "id": "f9dabefc",
   "metadata": {},
   "outputs": [],
   "source": [
    "# Set the environment variables\n",
    "os.environ['AZURE_OPENAI_API_KEY'] = azure_api_key\n",
    "os.environ['AZURE_OPENAI_ENDPOINT'] = azure_endpoint"
   ]
  },
  {
   "cell_type": "markdown",
   "id": "8a2e1845",
   "metadata": {},
   "source": [
    "# LLM Configuration"
   ]
  },
  {
   "cell_type": "code",
   "execution_count": 23,
   "id": "4b71035c",
   "metadata": {},
   "outputs": [],
   "source": [
    "MODEL_NAME = \"gpt-4o-mini\""
   ]
  },
  {
   "cell_type": "code",
   "execution_count": 24,
   "id": "3f27b194",
   "metadata": {},
   "outputs": [],
   "source": [
    "# Azure OpenAI - GPT-4o or GPT-4o-mini\n",
    "llm = AzureChatOpenAI(\n",
    "    deployment_name=MODEL_NAME,\n",
    "    model_name=\"gpt-4o\",\n",
    "    temperature=0,\n",
    "    api_version=\"2024-12-01-preview\",\n",
    ")"
   ]
  },
  {
   "cell_type": "markdown",
   "id": "35d7ebbe",
   "metadata": {},
   "source": [
    "# Output schema"
   ]
  },
  {
   "cell_type": "code",
   "execution_count": 25,
   "id": "a7c990c0",
   "metadata": {},
   "outputs": [],
   "source": [
    "# Define the schema\n",
    "class MeetingNotes(BaseModel):\n",
    "    summary: str\n",
    "    action_items: List[str]"
   ]
  },
  {
   "cell_type": "markdown",
   "id": "b3f1ea36",
   "metadata": {},
   "source": [
    "# Prompt"
   ]
  },
  {
   "cell_type": "code",
   "execution_count": 26,
   "id": "2f48feb3",
   "metadata": {},
   "outputs": [],
   "source": [
    "# The prompt template\n",
    "PROMPT_TEMPLATE = \"\"\"\n",
    "You are a meeting assistant.\n",
    "1. Summarize the meeting transcript below in exactly two sentences.\n",
    "2. Then list all action items mentioned, each as a separate bullet beginning with a dash.\n",
    "Return the result strictly as JSON with keys \"summary\" and \"action_items\".\n",
    "Transcript:\n",
    "{transcript}\n",
    "\"\"\""
   ]
  },
  {
   "cell_type": "markdown",
   "id": "056bc965",
   "metadata": {},
   "source": [
    "# Main Pipeline Function"
   ]
  },
  {
   "cell_type": "code",
   "execution_count": 29,
   "id": "08196eef",
   "metadata": {},
   "outputs": [],
   "source": [
    "def extract_meeting_notes(transcript: str) -> dict:\n",
    "    # Initialize the parser\n",
    "    parser = PydanticOutputParser(pydantic_object=MeetingNotes)\n",
    "    \n",
    "    # Build the prompt\n",
    "    prompt = PromptTemplate(\n",
    "        template=PROMPT_TEMPLATE,\n",
    "        input_variables=[\"transcript\"],\n",
    "        output_parser=parser\n",
    "    )\n",
    "    \n",
    "    # Format the final prompt\n",
    "    final_prompt = prompt.format_prompt(transcript=transcript)\n",
    "    \n",
    "    # First attempt\n",
    "    try:\n",
    "        output = llm(final_prompt.to_messages())\n",
    "        return parser.parse(output.content).model_dump_json()\n",
    "    except OutputParserException:\n",
    "        # Retry with stricter instruction\n",
    "        retry_prompt = PromptTemplate(\n",
    "            template=\"Please output valid JSON only.\\n\" + PROMPT_TEMPLATE,\n",
    "            input_variables=[\"transcript\"],\n",
    "            output_parser=parser\n",
    "        ).format_prompt(transcript=transcript)\n",
    "        \n",
    "        try:\n",
    "            output = llm(retry_prompt.to_messages())\n",
    "            return parser.parse(output.content).model_dump_json()\n",
    "        except OutputParserException:\n",
    "            return {\n",
    "                \"error\": \"Failed to parse valid JSON from LLM output after retry.\",\n",
    "                \"last_output\": output.content\n",
    "            }"
   ]
  },
  {
   "cell_type": "markdown",
   "id": "56ff3a23",
   "metadata": {},
   "source": [
    "# Test Cases"
   ]
  },
  {
   "cell_type": "code",
   "execution_count": 33,
   "id": "08342bf4",
   "metadata": {},
   "outputs": [],
   "source": [
    "transcript = \"\"\"\n",
    "Alice: Welcome everyone. Today we need to finalize the Q3 roadmap.\n",
    "Bob: I’ve emailed the updated feature list—please review byFriday.\n",
    "Carol: I’ll set up the user‐testing sessions next week.\n",
    "Dan: Let’s push the new UI mockups to staging on Wednesday.\n",
    "Alice: Great. Also, can someone compile the stakeholder feedback into a slide deck?\n",
    "Bob: I can handle the slide deck by Monday.\n",
    "Alice: Thanks, team. Meeting adjourned.\n",
    "\"\"\""
   ]
  },
  {
   "cell_type": "code",
   "execution_count": 35,
   "id": "56b48b1f",
   "metadata": {},
   "outputs": [
    {
     "data": {
      "text/plain": [
       "'\"{\\\\\"summary\\\\\":\\\\\"The team met to finalize the Q3 roadmap, discussing various tasks and deadlines. Action items were assigned to ensure progress on the updated feature list, user-testing sessions, UI mockups, and stakeholder feedback compilation.\\\\\",\\\\\"action_items\\\\\":[\\\\\"- Review the updated feature list by Friday.\\\\\",\\\\\"- Set up user-testing sessions next week.\\\\\",\\\\\"- Push the new UI mockups to staging on Wednesday.\\\\\",\\\\\"- Compile the stakeholder feedback into a slide deck by Monday.\\\\\"]}\"'"
      ]
     },
     "execution_count": 35,
     "metadata": {},
     "output_type": "execute_result"
    }
   ],
   "source": [
    "result = extract_meeting_notes(transcript)\n",
    "json.dumps(result, indent=4, ensure_ascii=False)"
   ]
  },
  {
   "cell_type": "code",
   "execution_count": 41,
   "id": "7a687c50",
   "metadata": {},
   "outputs": [
    {
     "name": "stdout",
     "output_type": "stream",
     "text": [
      "('{\"summary\":\"The team met to finalize the Q3 roadmap, discussing various '\n",
      " 'tasks and deadlines. Action items were assigned to ensure progress on the '\n",
      " 'updated feature list, user-testing sessions, UI mockups, and stakeholder '\n",
      " 'feedback compilation.\",\"action_items\":[\"- Review the updated feature list by '\n",
      " 'Friday.\",\"- Set up user-testing sessions next week.\",\"- Push the new UI '\n",
      " 'mockups to staging on Wednesday.\",\"- Compile the stakeholder feedback into a '\n",
      " 'slide deck by Monday.\"]}')\n"
     ]
    }
   ],
   "source": [
    "import pprint\n",
    "pprint.pprint(result)"
   ]
  },
  {
   "cell_type": "code",
   "execution_count": null,
   "id": "e0f8f7ac",
   "metadata": {},
   "outputs": [],
   "source": []
  }
 ],
 "metadata": {
  "kernelspec": {
   "display_name": "venv",
   "language": "python",
   "name": "python3"
  },
  "language_info": {
   "codemirror_mode": {
    "name": "ipython",
    "version": 3
   },
   "file_extension": ".py",
   "mimetype": "text/x-python",
   "name": "python",
   "nbconvert_exporter": "python",
   "pygments_lexer": "ipython3",
   "version": "3.12.4"
  }
 },
 "nbformat": 4,
 "nbformat_minor": 5
}
